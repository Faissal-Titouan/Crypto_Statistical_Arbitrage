{
 "cells": [
  {
   "attachments": {},
   "cell_type": "markdown",
   "metadata": {},
   "source": [
    "# \"First Try\" Notebook\n",
    "### Mainly on 15min and hourly ticker \n",
    "This first notebook is there to first dive into the different statistical analysis tools, and have a better understanding of the process"
   ]
  },
  {
   "cell_type": "code",
   "execution_count": 1,
   "metadata": {},
   "outputs": [],
   "source": [
    "import pandas as pd\n",
    "import numpy as np\n",
    "import matplotlib.pyplot as plt\n",
    "# import sqlalchemy\n",
    "\n",
    "import statsmodels.api as sm\n",
    "import statsmodels.tsa as smt"
   ]
  },
  {
   "attachments": {},
   "cell_type": "markdown",
   "metadata": {},
   "source": [
    "# Importing and preping the data"
   ]
  },
  {
   "cell_type": "code",
   "execution_count": 3,
   "metadata": {},
   "outputs": [
    {
     "data": {
      "text/html": [
       "<div>\n",
       "<style scoped>\n",
       "    .dataframe tbody tr th:only-of-type {\n",
       "        vertical-align: middle;\n",
       "    }\n",
       "\n",
       "    .dataframe tbody tr th {\n",
       "        vertical-align: top;\n",
       "    }\n",
       "\n",
       "    .dataframe thead th {\n",
       "        text-align: right;\n",
       "    }\n",
       "</style>\n",
       "<table border=\"1\" class=\"dataframe\">\n",
       "  <thead>\n",
       "    <tr style=\"text-align: right;\">\n",
       "      <th></th>\n",
       "      <th>open_time</th>\n",
       "      <th>close_AAVEUSDT</th>\n",
       "      <th>close_AUTOUSDT</th>\n",
       "      <th>close_BCHUSDT</th>\n",
       "      <th>close_BETHUSDT</th>\n",
       "      <th>close_BIFIUSDT</th>\n",
       "      <th>close_BNBUSDT</th>\n",
       "      <th>close_BTCUSDT</th>\n",
       "      <th>close_ETHUSDT</th>\n",
       "      <th>close_GMXUSDT</th>\n",
       "      <th>...</th>\n",
       "      <th>close_ILVUSDT</th>\n",
       "      <th>close_KP3RUSDT</th>\n",
       "      <th>close_LTCUSDT</th>\n",
       "      <th>close_MKRUSDT</th>\n",
       "      <th>close_PAXGUSDT</th>\n",
       "      <th>close_QNTUSDT</th>\n",
       "      <th>close_QUICKUSDT</th>\n",
       "      <th>close_XMRUSDT</th>\n",
       "      <th>close_YFIIUSDT</th>\n",
       "      <th>close_YFIUSDT</th>\n",
       "    </tr>\n",
       "  </thead>\n",
       "  <tbody>\n",
       "    <tr>\n",
       "      <th>0</th>\n",
       "      <td>2017-08-17 04:00:00</td>\n",
       "      <td>NaN</td>\n",
       "      <td>NaN</td>\n",
       "      <td>NaN</td>\n",
       "      <td>NaN</td>\n",
       "      <td>NaN</td>\n",
       "      <td>NaN</td>\n",
       "      <td>4261.48</td>\n",
       "      <td>301.13</td>\n",
       "      <td>NaN</td>\n",
       "      <td>...</td>\n",
       "      <td>NaN</td>\n",
       "      <td>NaN</td>\n",
       "      <td>NaN</td>\n",
       "      <td>NaN</td>\n",
       "      <td>NaN</td>\n",
       "      <td>NaN</td>\n",
       "      <td>NaN</td>\n",
       "      <td>NaN</td>\n",
       "      <td>NaN</td>\n",
       "      <td>NaN</td>\n",
       "    </tr>\n",
       "    <tr>\n",
       "      <th>1</th>\n",
       "      <td>2017-08-17 04:15:00</td>\n",
       "      <td>NaN</td>\n",
       "      <td>NaN</td>\n",
       "      <td>NaN</td>\n",
       "      <td>NaN</td>\n",
       "      <td>NaN</td>\n",
       "      <td>NaN</td>\n",
       "      <td>4261.48</td>\n",
       "      <td>298.00</td>\n",
       "      <td>NaN</td>\n",
       "      <td>...</td>\n",
       "      <td>NaN</td>\n",
       "      <td>NaN</td>\n",
       "      <td>NaN</td>\n",
       "      <td>NaN</td>\n",
       "      <td>NaN</td>\n",
       "      <td>NaN</td>\n",
       "      <td>NaN</td>\n",
       "      <td>NaN</td>\n",
       "      <td>NaN</td>\n",
       "      <td>NaN</td>\n",
       "    </tr>\n",
       "    <tr>\n",
       "      <th>2</th>\n",
       "      <td>2017-08-17 04:30:00</td>\n",
       "      <td>NaN</td>\n",
       "      <td>NaN</td>\n",
       "      <td>NaN</td>\n",
       "      <td>NaN</td>\n",
       "      <td>NaN</td>\n",
       "      <td>NaN</td>\n",
       "      <td>4280.00</td>\n",
       "      <td>299.39</td>\n",
       "      <td>NaN</td>\n",
       "      <td>...</td>\n",
       "      <td>NaN</td>\n",
       "      <td>NaN</td>\n",
       "      <td>NaN</td>\n",
       "      <td>NaN</td>\n",
       "      <td>NaN</td>\n",
       "      <td>NaN</td>\n",
       "      <td>NaN</td>\n",
       "      <td>NaN</td>\n",
       "      <td>NaN</td>\n",
       "      <td>NaN</td>\n",
       "    </tr>\n",
       "    <tr>\n",
       "      <th>3</th>\n",
       "      <td>2017-08-17 04:45:00</td>\n",
       "      <td>NaN</td>\n",
       "      <td>NaN</td>\n",
       "      <td>NaN</td>\n",
       "      <td>NaN</td>\n",
       "      <td>NaN</td>\n",
       "      <td>NaN</td>\n",
       "      <td>4310.07</td>\n",
       "      <td>299.60</td>\n",
       "      <td>NaN</td>\n",
       "      <td>...</td>\n",
       "      <td>NaN</td>\n",
       "      <td>NaN</td>\n",
       "      <td>NaN</td>\n",
       "      <td>NaN</td>\n",
       "      <td>NaN</td>\n",
       "      <td>NaN</td>\n",
       "      <td>NaN</td>\n",
       "      <td>NaN</td>\n",
       "      <td>NaN</td>\n",
       "      <td>NaN</td>\n",
       "    </tr>\n",
       "    <tr>\n",
       "      <th>4</th>\n",
       "      <td>2017-08-17 05:00:00</td>\n",
       "      <td>NaN</td>\n",
       "      <td>NaN</td>\n",
       "      <td>NaN</td>\n",
       "      <td>NaN</td>\n",
       "      <td>NaN</td>\n",
       "      <td>NaN</td>\n",
       "      <td>4308.83</td>\n",
       "      <td>301.61</td>\n",
       "      <td>NaN</td>\n",
       "      <td>...</td>\n",
       "      <td>NaN</td>\n",
       "      <td>NaN</td>\n",
       "      <td>NaN</td>\n",
       "      <td>NaN</td>\n",
       "      <td>NaN</td>\n",
       "      <td>NaN</td>\n",
       "      <td>NaN</td>\n",
       "      <td>NaN</td>\n",
       "      <td>NaN</td>\n",
       "      <td>NaN</td>\n",
       "    </tr>\n",
       "  </tbody>\n",
       "</table>\n",
       "<p>5 rows × 21 columns</p>\n",
       "</div>"
      ],
      "text/plain": [
       "             open_time  close_AAVEUSDT  close_AUTOUSDT  close_BCHUSDT   \n",
       "0  2017-08-17 04:00:00             NaN             NaN            NaN  \\\n",
       "1  2017-08-17 04:15:00             NaN             NaN            NaN   \n",
       "2  2017-08-17 04:30:00             NaN             NaN            NaN   \n",
       "3  2017-08-17 04:45:00             NaN             NaN            NaN   \n",
       "4  2017-08-17 05:00:00             NaN             NaN            NaN   \n",
       "\n",
       "   close_BETHUSDT  close_BIFIUSDT  close_BNBUSDT  close_BTCUSDT   \n",
       "0             NaN             NaN            NaN        4261.48  \\\n",
       "1             NaN             NaN            NaN        4261.48   \n",
       "2             NaN             NaN            NaN        4280.00   \n",
       "3             NaN             NaN            NaN        4310.07   \n",
       "4             NaN             NaN            NaN        4308.83   \n",
       "\n",
       "   close_ETHUSDT  close_GMXUSDT  ...  close_ILVUSDT  close_KP3RUSDT   \n",
       "0         301.13            NaN  ...            NaN             NaN  \\\n",
       "1         298.00            NaN  ...            NaN             NaN   \n",
       "2         299.39            NaN  ...            NaN             NaN   \n",
       "3         299.60            NaN  ...            NaN             NaN   \n",
       "4         301.61            NaN  ...            NaN             NaN   \n",
       "\n",
       "   close_LTCUSDT  close_MKRUSDT  close_PAXGUSDT  close_QNTUSDT   \n",
       "0            NaN            NaN             NaN            NaN  \\\n",
       "1            NaN            NaN             NaN            NaN   \n",
       "2            NaN            NaN             NaN            NaN   \n",
       "3            NaN            NaN             NaN            NaN   \n",
       "4            NaN            NaN             NaN            NaN   \n",
       "\n",
       "   close_QUICKUSDT  close_XMRUSDT  close_YFIIUSDT  close_YFIUSDT  \n",
       "0              NaN            NaN             NaN            NaN  \n",
       "1              NaN            NaN             NaN            NaN  \n",
       "2              NaN            NaN             NaN            NaN  \n",
       "3              NaN            NaN             NaN            NaN  \n",
       "4              NaN            NaN             NaN            NaN  \n",
       "\n",
       "[5 rows x 21 columns]"
      ]
     },
     "execution_count": 3,
     "metadata": {},
     "output_type": "execute_result"
    }
   ],
   "source": [
    "all_crypto_15 = pd.read_csv('../data/ALL_15.csv')\n",
    "all_crypto_15.head()"
   ]
  },
  {
   "cell_type": "code",
   "execution_count": 62,
   "metadata": {},
   "outputs": [
    {
     "name": "stdout",
     "output_type": "stream",
     "text": [
      "['close_ETHUSDT', 'close_BTCUSDT', 'close_BNBUSDT', 'close_LTCUSDT', 'close_XMRUSDT', 'close_BCHUSDT']\n",
      "['ETHUSDT', 'BTCUSDT', 'BNBUSDT', 'LTCUSDT', 'XMRUSDT', 'BCHUSDT']\n"
     ]
    }
   ],
   "source": [
    "# all_crypto_15.info()\n",
    "top_history_depth = pd.DataFrame(all_crypto_15.count().sort_values(ascending=False).head(7)).reset_index()\n",
    "list_column = top_history_depth[\"index\"].iloc[1:].to_list()\n",
    "list_crypto = top_history_depth[\"index\"].str.split(\"_\",expand=True).iloc[1:,1].to_list()\n",
    "print(list_column)\n",
    "print(list_crypto)"
   ]
  },
  {
   "attachments": {},
   "cell_type": "markdown",
   "metadata": {},
   "source": [
    "We want to have enough data, and don't want to select all the crypto at first so we will focus on the first 6 crypto in history depth"
   ]
  },
  {
   "cell_type": "code",
   "execution_count": 223,
   "metadata": {},
   "outputs": [],
   "source": [
    "working_df = all_crypto_15.set_index('open_time')[list_column].dropna()\n",
    "working_df.index = pd.to_datetime(working_df.index)\n",
    "working_df = working_df.loc['2021']"
   ]
  },
  {
   "attachments": {},
   "cell_type": "markdown",
   "metadata": {},
   "source": [
    "# Statistical Analysis\n",
    "### -ADF"
   ]
  },
  {
   "cell_type": "code",
   "execution_count": null,
   "metadata": {},
   "outputs": [],
   "source": []
  },
  {
   "cell_type": "code",
   "execution_count": 224,
   "metadata": {},
   "outputs": [],
   "source": [
    "adf_columns = [\"adf\",\"pvalue\",\"usedlag\",\"#_of_obs\",\"critical values\",\"icbest\",\"1%\",\"5%\",\"10%\"]"
   ]
  },
  {
   "cell_type": "code",
   "execution_count": 225,
   "metadata": {},
   "outputs": [],
   "source": [
    "# adf_df = pd.DataFrame(columns = adf_columns)\n",
    "# for ticker in working_df.columns :\n",
    "#     print(ticker)\n",
    "#     ans = smt.stattools.adfuller(np.array(working_df[ticker].dropna().values,dtype = 'float32'))\n",
    "    \n",
    "#     ans_df = pd.DataFrame([ans],columns = adf_columns,index= [f\"{ticker}\"])\n",
    "#     ans_df = ans_df.join(pd.DataFrame([ans_df['critical values'].values[0]],index= [f\"{ticker}\"]))\n",
    "#     ans_df.drop('critical values',axis=1)\n",
    "\n",
    "#     adf_df = pd.concat([adf_df,ans_df],axis = 0)"
   ]
  },
  {
   "cell_type": "code",
   "execution_count": 226,
   "metadata": {},
   "outputs": [],
   "source": [
    "# adf_df"
   ]
  },
  {
   "cell_type": "code",
   "execution_count": 227,
   "metadata": {},
   "outputs": [],
   "source": [
    "# adf_df = pd.DataFrame(columns = adf_columns)\n",
    "# working_df_diff = working_df.diff()\n",
    "# for ticker in working_df.columns :\n",
    "#     print(ticker)\n",
    "#     ans = smt.stattools.adfuller(np.array(working_df_diff[ticker].dropna().values,dtype = 'float32'))\n",
    "    \n",
    "#     ans_df = pd.DataFrame([ans],columns = adf_columns,index= [f\"{ticker}\"])\n",
    "#     ans_df = ans_df.join(pd.DataFrame([ans_df['critical values'].values[0]],index= [f\"{ticker}\"]))\n",
    "#     # ans_df.drop('critical values',axis=1)\n",
    "\n",
    "#     adf_df_diff = pd.concat([adf_df_diff,ans_df],axis = 0)\n",
    "\n",
    "# adf_df_diff.drop('critical values',axis=1,inplace = True)\n",
    "# adf_df_diff"
   ]
  },
  {
   "cell_type": "code",
   "execution_count": null,
   "metadata": {},
   "outputs": [],
   "source": []
  },
  {
   "attachments": {},
   "cell_type": "markdown",
   "metadata": {},
   "source": [
    "# OLS Regression\n",
    "\n",
    "In our case we decide to model the BTC from other crypto currencies"
   ]
  },
  {
   "cell_type": "code",
   "execution_count": 228,
   "metadata": {},
   "outputs": [],
   "source": [
    "endog = working_df['close_BTCUSDT']\n",
    "\n",
    "# endog = sm.add_constant(endog)\n",
    "\n",
    "exog  = working_df.drop('close_BTCUSDT',axis = 1)"
   ]
  },
  {
   "cell_type": "code",
   "execution_count": 229,
   "metadata": {},
   "outputs": [
    {
     "data": {
      "text/plain": [
       "close_ETHUSDT      6.784231\n",
       "close_BNBUSDT    -34.828255\n",
       "close_LTCUSDT    336.312121\n",
       "close_XMRUSDT    140.018855\n",
       "close_BCHUSDT    -91.922752\n",
       "dtype: float64"
      ]
     },
     "execution_count": 229,
     "metadata": {},
     "output_type": "execute_result"
    }
   ],
   "source": [
    "model = sm.OLS(endog= endog,exog = exog)\n",
    "model_calibrated = model.fit()\n",
    "\n",
    "model_calibrated.params"
   ]
  },
  {
   "cell_type": "code",
   "execution_count": 230,
   "metadata": {},
   "outputs": [
    {
     "data": {
      "text/html": [
       "<table class=\"simpletable\">\n",
       "<caption>OLS Regression Results</caption>\n",
       "<tr>\n",
       "  <th>Dep. Variable:</th>      <td>close_BTCUSDT</td>  <th>  R-squared (uncentered):</th>       <td>   0.993</td>  \n",
       "</tr>\n",
       "<tr>\n",
       "  <th>Model:</th>                   <td>OLS</td>       <th>  Adj. R-squared (uncentered):</th>  <td>   0.993</td>  \n",
       "</tr>\n",
       "<tr>\n",
       "  <th>Method:</th>             <td>Least Squares</td>  <th>  F-statistic:       </th>           <td>9.569e+05</td> \n",
       "</tr>\n",
       "<tr>\n",
       "  <th>Date:</th>             <td>Tue, 11 Apr 2023</td> <th>  Prob (F-statistic):</th>            <td>  0.00</td>   \n",
       "</tr>\n",
       "<tr>\n",
       "  <th>Time:</th>                 <td>01:04:27</td>     <th>  Log-Likelihood:    </th>          <td>-3.4075e+05</td>\n",
       "</tr>\n",
       "<tr>\n",
       "  <th>No. Observations:</th>      <td> 34975</td>      <th>  AIC:               </th>           <td>6.815e+05</td> \n",
       "</tr>\n",
       "<tr>\n",
       "  <th>Df Residuals:</th>          <td> 34970</td>      <th>  BIC:               </th>           <td>6.815e+05</td> \n",
       "</tr>\n",
       "<tr>\n",
       "  <th>Df Model:</th>              <td>     5</td>      <th>                     </th>               <td> </td>     \n",
       "</tr>\n",
       "<tr>\n",
       "  <th>Covariance Type:</th>      <td>nonrobust</td>    <th>                     </th>               <td> </td>     \n",
       "</tr>\n",
       "</table>\n",
       "<table class=\"simpletable\">\n",
       "<tr>\n",
       "        <td></td>           <th>coef</th>     <th>std err</th>      <th>t</th>      <th>P>|t|</th>  <th>[0.025</th>    <th>0.975]</th>  \n",
       "</tr>\n",
       "<tr>\n",
       "  <th>close_ETHUSDT</th> <td>    6.7842</td> <td>    0.039</td> <td>  175.392</td> <td> 0.000</td> <td>    6.708</td> <td>    6.860</td>\n",
       "</tr>\n",
       "<tr>\n",
       "  <th>close_BNBUSDT</th> <td>  -34.8283</td> <td>    0.303</td> <td> -115.088</td> <td> 0.000</td> <td>  -35.421</td> <td>  -34.235</td>\n",
       "</tr>\n",
       "<tr>\n",
       "  <th>close_LTCUSDT</th> <td>  336.3121</td> <td>    0.920</td> <td>  365.532</td> <td> 0.000</td> <td>  334.509</td> <td>  338.115</td>\n",
       "</tr>\n",
       "<tr>\n",
       "  <th>close_XMRUSDT</th> <td>  140.0189</td> <td>    0.815</td> <td>  171.712</td> <td> 0.000</td> <td>  138.421</td> <td>  141.617</td>\n",
       "</tr>\n",
       "<tr>\n",
       "  <th>close_BCHUSDT</th> <td>  -91.9228</td> <td>    0.339</td> <td> -271.537</td> <td> 0.000</td> <td>  -92.586</td> <td>  -91.259</td>\n",
       "</tr>\n",
       "</table>\n",
       "<table class=\"simpletable\">\n",
       "<tr>\n",
       "  <th>Omnibus:</th>       <td>1137.895</td> <th>  Durbin-Watson:     </th> <td>   0.009</td>\n",
       "</tr>\n",
       "<tr>\n",
       "  <th>Prob(Omnibus):</th>  <td> 0.000</td>  <th>  Jarque-Bera (JB):  </th> <td>1735.436</td>\n",
       "</tr>\n",
       "<tr>\n",
       "  <th>Skew:</th>           <td>-0.320</td>  <th>  Prob(JB):          </th> <td>    0.00</td>\n",
       "</tr>\n",
       "<tr>\n",
       "  <th>Kurtosis:</th>       <td> 3.884</td>  <th>  Cond. No.          </th> <td>    133.</td>\n",
       "</tr>\n",
       "</table><br/><br/>Notes:<br/>[1] R² is computed without centering (uncentered) since the model does not contain a constant.<br/>[2] Standard Errors assume that the covariance matrix of the errors is correctly specified."
      ],
      "text/plain": [
       "<class 'statsmodels.iolib.summary.Summary'>\n",
       "\"\"\"\n",
       "                                 OLS Regression Results                                \n",
       "=======================================================================================\n",
       "Dep. Variable:          close_BTCUSDT   R-squared (uncentered):                   0.993\n",
       "Model:                            OLS   Adj. R-squared (uncentered):              0.993\n",
       "Method:                 Least Squares   F-statistic:                          9.569e+05\n",
       "Date:                Tue, 11 Apr 2023   Prob (F-statistic):                        0.00\n",
       "Time:                        01:04:27   Log-Likelihood:                     -3.4075e+05\n",
       "No. Observations:               34975   AIC:                                  6.815e+05\n",
       "Df Residuals:                   34970   BIC:                                  6.815e+05\n",
       "Df Model:                           5                                                  \n",
       "Covariance Type:            nonrobust                                                  \n",
       "=================================================================================\n",
       "                    coef    std err          t      P>|t|      [0.025      0.975]\n",
       "---------------------------------------------------------------------------------\n",
       "close_ETHUSDT     6.7842      0.039    175.392      0.000       6.708       6.860\n",
       "close_BNBUSDT   -34.8283      0.303   -115.088      0.000     -35.421     -34.235\n",
       "close_LTCUSDT   336.3121      0.920    365.532      0.000     334.509     338.115\n",
       "close_XMRUSDT   140.0189      0.815    171.712      0.000     138.421     141.617\n",
       "close_BCHUSDT   -91.9228      0.339   -271.537      0.000     -92.586     -91.259\n",
       "==============================================================================\n",
       "Omnibus:                     1137.895   Durbin-Watson:                   0.009\n",
       "Prob(Omnibus):                  0.000   Jarque-Bera (JB):             1735.436\n",
       "Skew:                          -0.320   Prob(JB):                         0.00\n",
       "Kurtosis:                       3.884   Cond. No.                         133.\n",
       "==============================================================================\n",
       "\n",
       "Notes:\n",
       "[1] R² is computed without centering (uncentered) since the model does not contain a constant.\n",
       "[2] Standard Errors assume that the covariance matrix of the errors is correctly specified.\n",
       "\"\"\""
      ]
     },
     "execution_count": 230,
     "metadata": {},
     "output_type": "execute_result"
    }
   ],
   "source": [
    "model_calibrated.summary()"
   ]
  },
  {
   "cell_type": "code",
   "execution_count": 231,
   "metadata": {},
   "outputs": [],
   "source": [
    "spread = working_df['close_BTCUSDT'] - model_calibrated.predict()"
   ]
  },
  {
   "attachments": {},
   "cell_type": "markdown",
   "metadata": {},
   "source": [
    "# Plots"
   ]
  },
  {
   "cell_type": "code",
   "execution_count": 232,
   "metadata": {},
   "outputs": [],
   "source": [
    "price_df_norm = working_df.dropna().copy()\n",
    "for c in price_df_norm.columns : \n",
    "    price_df_norm[c] = price_df_norm[c] / price_df_norm[c].iloc[0]"
   ]
  },
  {
   "cell_type": "code",
   "execution_count": 233,
   "metadata": {},
   "outputs": [
    {
     "data": {
      "text/plain": [
       "<matplotlib.collections.LineCollection at 0x19c2a7795b0>"
      ]
     },
     "execution_count": 233,
     "metadata": {},
     "output_type": "execute_result"
    },
    {
     "data": {
      "image/png": "[encoded data removed]",
      "text/plain": [
       "<Figure size 864x576 with 2 Axes>"
      ]
     },
     "metadata": {
      "needs_background": "light"
     },
     "output_type": "display_data"
    }
   ],
   "source": [
    "fig,ax = plt.subplots(2,1,figsize = (12,8))\n",
    "price_df_norm.plot(ax = ax[0])\n",
    "\n",
    "\n",
    "ax[1].plot(spread.values)\n",
    "ax[1].hlines(np.std(spread),xmin = 0,xmax = len(spread),color = 'r')\n",
    "ax[1].hlines(-np.std(spread),xmin = 0,xmax = len(spread),color = 'r')"
   ]
  },
  {
   "cell_type": "code",
   "execution_count": 235,
   "metadata": {},
   "outputs": [
    {
     "data": {
      "text/html": [
       "<div>\n",
       "<style scoped>\n",
       "    .dataframe tbody tr th:only-of-type {\n",
       "        vertical-align: middle;\n",
       "    }\n",
       "\n",
       "    .dataframe tbody tr th {\n",
       "        vertical-align: top;\n",
       "    }\n",
       "\n",
       "    .dataframe thead th {\n",
       "        text-align: right;\n",
       "    }\n",
       "</style>\n",
       "<table border=\"1\" class=\"dataframe\">\n",
       "  <thead>\n",
       "    <tr style=\"text-align: right;\">\n",
       "      <th></th>\n",
       "      <th>close_ETHUSDT</th>\n",
       "      <th>close_BTCUSDT</th>\n",
       "      <th>close_BNBUSDT</th>\n",
       "      <th>close_LTCUSDT</th>\n",
       "      <th>close_XMRUSDT</th>\n",
       "      <th>close_BCHUSDT</th>\n",
       "    </tr>\n",
       "  </thead>\n",
       "  <tbody>\n",
       "    <tr>\n",
       "      <th>close_ETHUSDT</th>\n",
       "      <td>1.000000</td>\n",
       "      <td>0.561460</td>\n",
       "      <td>0.873473</td>\n",
       "      <td>0.336048</td>\n",
       "      <td>0.427960</td>\n",
       "      <td>0.297135</td>\n",
       "    </tr>\n",
       "    <tr>\n",
       "      <th>close_BTCUSDT</th>\n",
       "      <td>0.561460</td>\n",
       "      <td>1.000000</td>\n",
       "      <td>0.631515</td>\n",
       "      <td>0.670692</td>\n",
       "      <td>0.503091</td>\n",
       "      <td>0.384119</td>\n",
       "    </tr>\n",
       "    <tr>\n",
       "      <th>close_BNBUSDT</th>\n",
       "      <td>0.873473</td>\n",
       "      <td>0.631515</td>\n",
       "      <td>1.000000</td>\n",
       "      <td>0.551927</td>\n",
       "      <td>0.690279</td>\n",
       "      <td>0.510944</td>\n",
       "    </tr>\n",
       "    <tr>\n",
       "      <th>close_LTCUSDT</th>\n",
       "      <td>0.336048</td>\n",
       "      <td>0.670692</td>\n",
       "      <td>0.551927</td>\n",
       "      <td>1.000000</td>\n",
       "      <td>0.802080</td>\n",
       "      <td>0.888887</td>\n",
       "    </tr>\n",
       "    <tr>\n",
       "      <th>close_XMRUSDT</th>\n",
       "      <td>0.427960</td>\n",
       "      <td>0.503091</td>\n",
       "      <td>0.690279</td>\n",
       "      <td>0.802080</td>\n",
       "      <td>1.000000</td>\n",
       "      <td>0.891734</td>\n",
       "    </tr>\n",
       "    <tr>\n",
       "      <th>close_BCHUSDT</th>\n",
       "      <td>0.297135</td>\n",
       "      <td>0.384119</td>\n",
       "      <td>0.510944</td>\n",
       "      <td>0.888887</td>\n",
       "      <td>0.891734</td>\n",
       "      <td>1.000000</td>\n",
       "    </tr>\n",
       "  </tbody>\n",
       "</table>\n",
       "</div>"
      ],
      "text/plain": [
       "               close_ETHUSDT  close_BTCUSDT  close_BNBUSDT  close_LTCUSDT   \n",
       "close_ETHUSDT       1.000000       0.561460       0.873473       0.336048  \\\n",
       "close_BTCUSDT       0.561460       1.000000       0.631515       0.670692   \n",
       "close_BNBUSDT       0.873473       0.631515       1.000000       0.551927   \n",
       "close_LTCUSDT       0.336048       0.670692       0.551927       1.000000   \n",
       "close_XMRUSDT       0.427960       0.503091       0.690279       0.802080   \n",
       "close_BCHUSDT       0.297135       0.384119       0.510944       0.888887   \n",
       "\n",
       "               close_XMRUSDT  close_BCHUSDT  \n",
       "close_ETHUSDT       0.427960       0.297135  \n",
       "close_BTCUSDT       0.503091       0.384119  \n",
       "close_BNBUSDT       0.690279       0.510944  \n",
       "close_LTCUSDT       0.802080       0.888887  \n",
       "close_XMRUSDT       1.000000       0.891734  \n",
       "close_BCHUSDT       0.891734       1.000000  "
      ]
     },
     "execution_count": 235,
     "metadata": {},
     "output_type": "execute_result"
    }
   ],
   "source": [
    "working_df.corr()"
   ]
  },
  {
   "cell_type": "code",
   "execution_count": 238,
   "metadata": {},
   "outputs": [
    {
     "data": {
      "image/png": "[encoded data removed]",
      "text/plain": [
       "<Figure size 288x288 with 2 Axes>"
      ]
     },
     "metadata": {
      "needs_background": "light"
     },
     "output_type": "display_data"
    }
   ],
   "source": [
    "plt.matshow(working_df.corr())\n",
    "\n",
    "plt.xticks(range(working_df.select_dtypes(['number']).shape[1]), working_df.select_dtypes(['number']).columns, fontsize=10, rotation=45)\n",
    "plt.yticks(range(working_df.select_dtypes(['number']).shape[1]), working_df.select_dtypes(['number']).columns, fontsize=10)\n",
    "cb = plt.colorbar()\n",
    "cb.ax.tick_params(labelsize=14)\n",
    "plt.title('Correlation Matrix', fontsize=16);\n",
    "plt.show()"
   ]
  }
 ],
 "metadata": {
  "kernelspec": {
   "display_name": "base",
   "language": "python",
   "name": "python3"
  },
  "language_info": {
   "codemirror_mode": {
    "name": "ipython",
    "version": 3
   },
   "file_extension": ".py",
   "mimetype": "text/x-python",
   "name": "python",
   "nbconvert_exporter": "python",
   "pygments_lexer": "ipython3",
   "version": "3.9.7"
  },
  "orig_nbformat": 4
 },
 "nbformat": 4,
 "nbformat_minor": 2
}
