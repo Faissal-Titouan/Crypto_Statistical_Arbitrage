{
 "cells": [
  {
   "cell_type": "markdown",
   "metadata": {},
   "source": [
    "# This notebook is an other analysis on stable coins.\n",
    "The main goal is to backtest and find the best params for a strategy consisting in entering a trade when there is a \"depeg\" of the stablecoins.\n",
    "We can consider that this can of strategy doesn't work for big institutions because : \n",
    "- They may be providing too much liquidity to the market at the moment of the depeg\n",
    "- Thus a strategy of that kind won't work without a hard work done on the trading book and execution strategy \\\n",
    "In our case, we will consider that on a \"retail investor level\" the impact on liquidity is null, so we can buy/sell during a depeg and being sure to geck our money back.\n",
    "\n",
    "This is what we are going to backtest and analyse"
   ]
  },
  {
   "cell_type": "code",
   "execution_count": 7,
   "metadata": {},
   "outputs": [],
   "source": [
    "import pandas as pd\n",
    "import numpy as np\n",
    "import sqlalchemy\n"
   ]
  },
  {
   "cell_type": "code",
   "execution_count": null,
   "metadata": {},
   "outputs": [],
   "source": [
    "list_stable_coin = [\"TUSDUSDT\", \"USDCUSDT\", \"BUSDUSDT\",\"TUSDUSDT\",\"USDPUSDT\",\"FDUSDUSDT\"]"
   ]
  },
  {
   "cell_type": "code",
   "execution_count": 15,
   "metadata": {},
   "outputs": [
    {
     "name": "stderr",
     "output_type": "stream",
     "text": [
      "C:\\Users\\Titouan\\AppData\\Local\\Temp/ipykernel_14236/755720616.py:2: SADeprecationWarning: The Engine.table_names() method is deprecated and will be removed in a future release.  Please refer to Inspector.get_table_names(). (deprecated since: 1.4)\n",
      "  engine.table_names()\n"
     ]
    },
    {
     "data": {
      "text/plain": [
       "['AAVEUSDT',\n",
       " 'AUTOUSDT',\n",
       " 'BCHUSDT',\n",
       " 'BETHUSDT',\n",
       " 'BIFIUSDT',\n",
       " 'BNBUSDT',\n",
       " 'BTCUSDT',\n",
       " 'ETHUSDT',\n",
       " 'GMXUSDT',\n",
       " 'GNOUSDT',\n",
       " 'ILVUSDT',\n",
       " 'KP3RUSDT',\n",
       " 'LTCUSDT',\n",
       " 'MKRUSDT',\n",
       " 'PAXGUSDT',\n",
       " 'QNTUSDT',\n",
       " 'QUICKUSDT',\n",
       " 'XMRUSDT',\n",
       " 'YFIIUSDT',\n",
       " 'YFIUSDT']"
      ]
     },
     "execution_count": 15,
     "metadata": {},
     "output_type": "execute_result"
    }
   ],
   "source": [
    "engine = sqlalchemy.create_engine('sqlite:///new.db')\n",
    "engine.table_names()"
   ]
  },
  {
   "cell_type": "code",
   "execution_count": 3,
   "metadata": {},
   "outputs": [],
   "source": [
    "inspector = sqlalchemy.inspect(engine)\n"
   ]
  },
  {
   "cell_type": "code",
   "execution_count": 6,
   "metadata": {},
   "outputs": [
    {
     "data": {
      "text/plain": [
       "Index(['open_time', 'close_AAVEUSDT', 'close_AUTOUSDT', 'close_BCHUSDT',\n",
       "       'close_BETHUSDT', 'close_BIFIUSDT', 'close_BNBUSDT', 'close_BTCUSDT',\n",
       "       'close_ETHUSDT', 'close_GMXUSDT', 'close_GNOUSDT', 'close_ILVUSDT',\n",
       "       'close_KP3RUSDT', 'close_LTCUSDT', 'close_MKRUSDT', 'close_PAXGUSDT',\n",
       "       'close_QNTUSDT', 'close_QUICKUSDT', 'close_XMRUSDT', 'close_YFIIUSDT',\n",
       "       'close_YFIUSDT'],\n",
       "      dtype='object')"
      ]
     },
     "execution_count": 6,
     "metadata": {},
     "output_type": "execute_result"
    }
   ],
   "source": [
    "df.columns"
   ]
  },
  {
   "cell_type": "code",
   "execution_count": null,
   "metadata": {},
   "outputs": [],
   "source": []
  },
  {
   "cell_type": "code",
   "execution_count": null,
   "metadata": {},
   "outputs": [],
   "source": []
  },
  {
   "cell_type": "markdown",
   "metadata": {},
   "source": []
  }
 ],
 "metadata": {
  "kernelspec": {
   "display_name": "base",
   "language": "python",
   "name": "python3"
  },
  "language_info": {
   "codemirror_mode": {
    "name": "ipython",
    "version": 3
   },
   "file_extension": ".py",
   "mimetype": "text/x-python",
   "name": "python",
   "nbconvert_exporter": "python",
   "pygments_lexer": "ipython3",
   "version": "3.9.7"
  },
  "orig_nbformat": 4
 },
 "nbformat": 4,
 "nbformat_minor": 2
}
