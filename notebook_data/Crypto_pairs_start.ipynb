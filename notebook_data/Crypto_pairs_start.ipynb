{
 "cells": [
  {
   "cell_type": "code",
   "execution_count": 1,
   "metadata": {},
   "outputs": [],
   "source": [
    "import pandas as pd\n",
    "import numpy as np\n",
    "import matplotlib.pyplot as plt\n",
    "import sqlalchemy\n",
    "\n",
    "import statsmodels.api as sm"
   ]
  },
  {
   "cell_type": "code",
   "execution_count": 2,
   "metadata": {},
   "outputs": [],
   "source": [
    "tickers = [\"BTCUSDT\",\"ETHUSDT\",\"BNBUSDT\",\"LTCUSDT\",\"XMRUSDT\"]"
   ]
  },
  {
   "cell_type": "code",
   "execution_count": 3,
   "metadata": {},
   "outputs": [],
   "source": [
    "engine = sqlalchemy.create_engine('sqlite:///new.db')"
   ]
  },
  {
   "cell_type": "code",
   "execution_count": 47,
   "metadata": {},
   "outputs": [],
   "source": [
    "engine_out = sqlalchemy.create_engine('sqlite:///close_only.db')"
   ]
  },
  {
   "cell_type": "code",
   "execution_count": 39,
   "metadata": {},
   "outputs": [
    {
     "name": "stderr",
     "output_type": "stream",
     "text": [
      "C:\\Users\\Titouan\\AppData\\Local\\Temp/ipykernel_12540/952545624.py:1: SADeprecationWarning: The Engine.table_names() method is deprecated and will be removed in a future release.  Please refer to Inspector.get_table_names(). (deprecated since: 1.4)\n",
      "  all_tickers = engine.table_names()\n"
     ]
    }
   ],
   "source": [
    "all_tickers = engine.table_names()"
   ]
  },
  {
   "cell_type": "code",
   "execution_count": 41,
   "metadata": {},
   "outputs": [
    {
     "name": "stdout",
     "output_type": "stream",
     "text": [
      "AAVEUSDT\n",
      "AUTOUSDT\n",
      "BCHUSDT\n",
      "BETHUSDT\n",
      "BIFIUSDT\n",
      "BNBUSDT\n",
      "BTCUSDT\n",
      "ETHUSDT\n",
      "GMXUSDT\n",
      "GNOUSDT\n",
      "ILVUSDT\n",
      "KP3RUSDT\n",
      "LTCUSDT\n",
      "MKRUSDT\n",
      "PAXGUSDT\n",
      "QNTUSDT\n",
      "QUICKUSDT\n",
      "XMRUSDT\n",
      "YFIIUSDT\n",
      "YFIUSDT\n",
      "loaded\n",
      "AAVEUSDT\n",
      "AUTOUSDT\n",
      "BCHUSDT\n",
      "BETHUSDT\n",
      "BIFIUSDT\n",
      "BNBUSDT\n",
      "BTCUSDT\n",
      "ETHUSDT\n",
      "GMXUSDT\n",
      "GNOUSDT\n",
      "ILVUSDT\n",
      "KP3RUSDT\n",
      "LTCUSDT\n",
      "MKRUSDT\n",
      "PAXGUSDT\n",
      "QNTUSDT\n",
      "QUICKUSDT\n",
      "XMRUSDT\n",
      "YFIIUSDT\n",
      "YFIUSDT\n"
     ]
    }
   ],
   "source": [
    "dic_df ={}\n",
    "for ticker in all_tickers : \n",
    "    dic_df[ticker] = pd.read_sql(ticker,engine)\n",
    "    dic_df[ticker].set_index(\"open_time\",inplace = True)\n",
    "    print(ticker)\n",
    "  \n",
    "print(\"loaded\")\n",
    "price_df = dic_df['BTCUSDT'][['close']]\n",
    "for ticker in all_tickers : \n",
    "    price_df = price_df.join(dic_df[ticker][\"close\"],rsuffix = f\"_{ticker}\")\n",
    "    print(ticker)\n",
    "price_df.drop('close',axis = 1,inplace = True)\n",
    "#price_df.fillna(0,inplace = True)\n",
    "# price_df.to_csv(\"../data/initial_pairs.csv\")\n",
    "\n",
    "\n",
    "\n"
   ]
  },
  {
   "cell_type": "code",
   "execution_count": 42,
   "metadata": {},
   "outputs": [
    {
     "data": {
      "text/html": [
       "<div>\n",
       "<style scoped>\n",
       "    .dataframe tbody tr th:only-of-type {\n",
       "        vertical-align: middle;\n",
       "    }\n",
       "\n",
       "    .dataframe tbody tr th {\n",
       "        vertical-align: top;\n",
       "    }\n",
       "\n",
       "    .dataframe thead th {\n",
       "        text-align: right;\n",
       "    }\n",
       "</style>\n",
       "<table border=\"1\" class=\"dataframe\">\n",
       "  <thead>\n",
       "    <tr style=\"text-align: right;\">\n",
       "      <th></th>\n",
       "      <th>close_AAVEUSDT</th>\n",
       "      <th>close_AUTOUSDT</th>\n",
       "      <th>close_BCHUSDT</th>\n",
       "      <th>close_BETHUSDT</th>\n",
       "      <th>close_BIFIUSDT</th>\n",
       "      <th>close_BNBUSDT</th>\n",
       "      <th>close_BTCUSDT</th>\n",
       "      <th>close_ETHUSDT</th>\n",
       "      <th>close_GMXUSDT</th>\n",
       "      <th>close_GNOUSDT</th>\n",
       "      <th>close_ILVUSDT</th>\n",
       "      <th>close_KP3RUSDT</th>\n",
       "      <th>close_LTCUSDT</th>\n",
       "      <th>close_MKRUSDT</th>\n",
       "      <th>close_PAXGUSDT</th>\n",
       "      <th>close_QNTUSDT</th>\n",
       "      <th>close_QUICKUSDT</th>\n",
       "      <th>close_XMRUSDT</th>\n",
       "      <th>close_YFIIUSDT</th>\n",
       "      <th>close_YFIUSDT</th>\n",
       "    </tr>\n",
       "    <tr>\n",
       "      <th>open_time</th>\n",
       "      <th></th>\n",
       "      <th></th>\n",
       "      <th></th>\n",
       "      <th></th>\n",
       "      <th></th>\n",
       "      <th></th>\n",
       "      <th></th>\n",
       "      <th></th>\n",
       "      <th></th>\n",
       "      <th></th>\n",
       "      <th></th>\n",
       "      <th></th>\n",
       "      <th></th>\n",
       "      <th></th>\n",
       "      <th></th>\n",
       "      <th></th>\n",
       "      <th></th>\n",
       "      <th></th>\n",
       "      <th></th>\n",
       "      <th></th>\n",
       "    </tr>\n",
       "  </thead>\n",
       "  <tbody>\n",
       "    <tr>\n",
       "      <th>2017-08-17 04:00:00</th>\n",
       "      <td>NaN</td>\n",
       "      <td>NaN</td>\n",
       "      <td>NaN</td>\n",
       "      <td>NaN</td>\n",
       "      <td>NaN</td>\n",
       "      <td>NaN</td>\n",
       "      <td>4261.48</td>\n",
       "      <td>301.13</td>\n",
       "      <td>NaN</td>\n",
       "      <td>NaN</td>\n",
       "      <td>NaN</td>\n",
       "      <td>NaN</td>\n",
       "      <td>NaN</td>\n",
       "      <td>NaN</td>\n",
       "      <td>NaN</td>\n",
       "      <td>NaN</td>\n",
       "      <td>NaN</td>\n",
       "      <td>NaN</td>\n",
       "      <td>NaN</td>\n",
       "      <td>NaN</td>\n",
       "    </tr>\n",
       "    <tr>\n",
       "      <th>2017-08-17 04:01:00</th>\n",
       "      <td>NaN</td>\n",
       "      <td>NaN</td>\n",
       "      <td>NaN</td>\n",
       "      <td>NaN</td>\n",
       "      <td>NaN</td>\n",
       "      <td>NaN</td>\n",
       "      <td>4261.48</td>\n",
       "      <td>301.13</td>\n",
       "      <td>NaN</td>\n",
       "      <td>NaN</td>\n",
       "      <td>NaN</td>\n",
       "      <td>NaN</td>\n",
       "      <td>NaN</td>\n",
       "      <td>NaN</td>\n",
       "      <td>NaN</td>\n",
       "      <td>NaN</td>\n",
       "      <td>NaN</td>\n",
       "      <td>NaN</td>\n",
       "      <td>NaN</td>\n",
       "      <td>NaN</td>\n",
       "    </tr>\n",
       "    <tr>\n",
       "      <th>2017-08-17 04:02:00</th>\n",
       "      <td>NaN</td>\n",
       "      <td>NaN</td>\n",
       "      <td>NaN</td>\n",
       "      <td>NaN</td>\n",
       "      <td>NaN</td>\n",
       "      <td>NaN</td>\n",
       "      <td>4280.56</td>\n",
       "      <td>300.00</td>\n",
       "      <td>NaN</td>\n",
       "      <td>NaN</td>\n",
       "      <td>NaN</td>\n",
       "      <td>NaN</td>\n",
       "      <td>NaN</td>\n",
       "      <td>NaN</td>\n",
       "      <td>NaN</td>\n",
       "      <td>NaN</td>\n",
       "      <td>NaN</td>\n",
       "      <td>NaN</td>\n",
       "      <td>NaN</td>\n",
       "      <td>NaN</td>\n",
       "    </tr>\n",
       "    <tr>\n",
       "      <th>2017-08-17 04:03:00</th>\n",
       "      <td>NaN</td>\n",
       "      <td>NaN</td>\n",
       "      <td>NaN</td>\n",
       "      <td>NaN</td>\n",
       "      <td>NaN</td>\n",
       "      <td>NaN</td>\n",
       "      <td>4261.48</td>\n",
       "      <td>300.00</td>\n",
       "      <td>NaN</td>\n",
       "      <td>NaN</td>\n",
       "      <td>NaN</td>\n",
       "      <td>NaN</td>\n",
       "      <td>NaN</td>\n",
       "      <td>NaN</td>\n",
       "      <td>NaN</td>\n",
       "      <td>NaN</td>\n",
       "      <td>NaN</td>\n",
       "      <td>NaN</td>\n",
       "      <td>NaN</td>\n",
       "      <td>NaN</td>\n",
       "    </tr>\n",
       "    <tr>\n",
       "      <th>2017-08-17 04:04:00</th>\n",
       "      <td>NaN</td>\n",
       "      <td>NaN</td>\n",
       "      <td>NaN</td>\n",
       "      <td>NaN</td>\n",
       "      <td>NaN</td>\n",
       "      <td>NaN</td>\n",
       "      <td>4261.48</td>\n",
       "      <td>301.13</td>\n",
       "      <td>NaN</td>\n",
       "      <td>NaN</td>\n",
       "      <td>NaN</td>\n",
       "      <td>NaN</td>\n",
       "      <td>NaN</td>\n",
       "      <td>NaN</td>\n",
       "      <td>NaN</td>\n",
       "      <td>NaN</td>\n",
       "      <td>NaN</td>\n",
       "      <td>NaN</td>\n",
       "      <td>NaN</td>\n",
       "      <td>NaN</td>\n",
       "    </tr>\n",
       "  </tbody>\n",
       "</table>\n",
       "</div>"
      ],
      "text/plain": [
       "                     close_AAVEUSDT  close_AUTOUSDT  close_BCHUSDT   \n",
       "open_time                                                            \n",
       "2017-08-17 04:00:00             NaN             NaN            NaN  \\\n",
       "2017-08-17 04:01:00             NaN             NaN            NaN   \n",
       "2017-08-17 04:02:00             NaN             NaN            NaN   \n",
       "2017-08-17 04:03:00             NaN             NaN            NaN   \n",
       "2017-08-17 04:04:00             NaN             NaN            NaN   \n",
       "\n",
       "                     close_BETHUSDT  close_BIFIUSDT  close_BNBUSDT   \n",
       "open_time                                                            \n",
       "2017-08-17 04:00:00             NaN             NaN            NaN  \\\n",
       "2017-08-17 04:01:00             NaN             NaN            NaN   \n",
       "2017-08-17 04:02:00             NaN             NaN            NaN   \n",
       "2017-08-17 04:03:00             NaN             NaN            NaN   \n",
       "2017-08-17 04:04:00             NaN             NaN            NaN   \n",
       "\n",
       "                     close_BTCUSDT  close_ETHUSDT  close_GMXUSDT   \n",
       "open_time                                                          \n",
       "2017-08-17 04:00:00        4261.48         301.13            NaN  \\\n",
       "2017-08-17 04:01:00        4261.48         301.13            NaN   \n",
       "2017-08-17 04:02:00        4280.56         300.00            NaN   \n",
       "2017-08-17 04:03:00        4261.48         300.00            NaN   \n",
       "2017-08-17 04:04:00        4261.48         301.13            NaN   \n",
       "\n",
       "                     close_GNOUSDT  close_ILVUSDT  close_KP3RUSDT   \n",
       "open_time                                                           \n",
       "2017-08-17 04:00:00            NaN            NaN             NaN  \\\n",
       "2017-08-17 04:01:00            NaN            NaN             NaN   \n",
       "2017-08-17 04:02:00            NaN            NaN             NaN   \n",
       "2017-08-17 04:03:00            NaN            NaN             NaN   \n",
       "2017-08-17 04:04:00            NaN            NaN             NaN   \n",
       "\n",
       "                     close_LTCUSDT  close_MKRUSDT  close_PAXGUSDT   \n",
       "open_time                                                           \n",
       "2017-08-17 04:00:00            NaN            NaN             NaN  \\\n",
       "2017-08-17 04:01:00            NaN            NaN             NaN   \n",
       "2017-08-17 04:02:00            NaN            NaN             NaN   \n",
       "2017-08-17 04:03:00            NaN            NaN             NaN   \n",
       "2017-08-17 04:04:00            NaN            NaN             NaN   \n",
       "\n",
       "                     close_QNTUSDT  close_QUICKUSDT  close_XMRUSDT   \n",
       "open_time                                                            \n",
       "2017-08-17 04:00:00            NaN              NaN            NaN  \\\n",
       "2017-08-17 04:01:00            NaN              NaN            NaN   \n",
       "2017-08-17 04:02:00            NaN              NaN            NaN   \n",
       "2017-08-17 04:03:00            NaN              NaN            NaN   \n",
       "2017-08-17 04:04:00            NaN              NaN            NaN   \n",
       "\n",
       "                     close_YFIIUSDT  close_YFIUSDT  \n",
       "open_time                                           \n",
       "2017-08-17 04:00:00             NaN            NaN  \n",
       "2017-08-17 04:01:00             NaN            NaN  \n",
       "2017-08-17 04:02:00             NaN            NaN  \n",
       "2017-08-17 04:03:00             NaN            NaN  \n",
       "2017-08-17 04:04:00             NaN            NaN  "
      ]
     },
     "execution_count": 42,
     "metadata": {},
     "output_type": "execute_result"
    }
   ],
   "source": [
    "price_df.head()"
   ]
  },
  {
   "cell_type": "code",
   "execution_count": 44,
   "metadata": {},
   "outputs": [],
   "source": [
    "price_df_5m = price_df.resample(\"5T\").agg('first') \n",
    "price_df_15m = price_df.resample(\"15T\").agg('first')\n",
    "price_df_60m = price_df.resample(\"60T\").agg('first') "
   ]
  },
  {
   "cell_type": "code",
   "execution_count": 45,
   "metadata": {},
   "outputs": [
    {
     "data": {
      "text/html": [
       "<div>\n",
       "<style scoped>\n",
       "    .dataframe tbody tr th:only-of-type {\n",
       "        vertical-align: middle;\n",
       "    }\n",
       "\n",
       "    .dataframe tbody tr th {\n",
       "        vertical-align: top;\n",
       "    }\n",
       "\n",
       "    .dataframe thead th {\n",
       "        text-align: right;\n",
       "    }\n",
       "</style>\n",
       "<table border=\"1\" class=\"dataframe\">\n",
       "  <thead>\n",
       "    <tr style=\"text-align: right;\">\n",
       "      <th></th>\n",
       "      <th>close_AAVEUSDT</th>\n",
       "      <th>close_AUTOUSDT</th>\n",
       "      <th>close_BCHUSDT</th>\n",
       "      <th>close_BETHUSDT</th>\n",
       "      <th>close_BIFIUSDT</th>\n",
       "      <th>close_BNBUSDT</th>\n",
       "      <th>close_BTCUSDT</th>\n",
       "      <th>close_ETHUSDT</th>\n",
       "      <th>close_GMXUSDT</th>\n",
       "      <th>close_GNOUSDT</th>\n",
       "      <th>close_ILVUSDT</th>\n",
       "      <th>close_KP3RUSDT</th>\n",
       "      <th>close_LTCUSDT</th>\n",
       "      <th>close_MKRUSDT</th>\n",
       "      <th>close_PAXGUSDT</th>\n",
       "      <th>close_QNTUSDT</th>\n",
       "      <th>close_QUICKUSDT</th>\n",
       "      <th>close_XMRUSDT</th>\n",
       "      <th>close_YFIIUSDT</th>\n",
       "      <th>close_YFIUSDT</th>\n",
       "    </tr>\n",
       "    <tr>\n",
       "      <th>open_time</th>\n",
       "      <th></th>\n",
       "      <th></th>\n",
       "      <th></th>\n",
       "      <th></th>\n",
       "      <th></th>\n",
       "      <th></th>\n",
       "      <th></th>\n",
       "      <th></th>\n",
       "      <th></th>\n",
       "      <th></th>\n",
       "      <th></th>\n",
       "      <th></th>\n",
       "      <th></th>\n",
       "      <th></th>\n",
       "      <th></th>\n",
       "      <th></th>\n",
       "      <th></th>\n",
       "      <th></th>\n",
       "      <th></th>\n",
       "      <th></th>\n",
       "    </tr>\n",
       "  </thead>\n",
       "  <tbody>\n",
       "    <tr>\n",
       "      <th>2017-08-17 04:00:00</th>\n",
       "      <td>NaN</td>\n",
       "      <td>NaN</td>\n",
       "      <td>NaN</td>\n",
       "      <td>NaN</td>\n",
       "      <td>NaN</td>\n",
       "      <td>NaN</td>\n",
       "      <td>4261.48</td>\n",
       "      <td>301.13</td>\n",
       "      <td>NaN</td>\n",
       "      <td>NaN</td>\n",
       "      <td>NaN</td>\n",
       "      <td>NaN</td>\n",
       "      <td>NaN</td>\n",
       "      <td>NaN</td>\n",
       "      <td>NaN</td>\n",
       "      <td>NaN</td>\n",
       "      <td>NaN</td>\n",
       "      <td>NaN</td>\n",
       "      <td>NaN</td>\n",
       "      <td>NaN</td>\n",
       "    </tr>\n",
       "    <tr>\n",
       "      <th>2017-08-17 05:00:00</th>\n",
       "      <td>NaN</td>\n",
       "      <td>NaN</td>\n",
       "      <td>NaN</td>\n",
       "      <td>NaN</td>\n",
       "      <td>NaN</td>\n",
       "      <td>NaN</td>\n",
       "      <td>4308.83</td>\n",
       "      <td>301.61</td>\n",
       "      <td>NaN</td>\n",
       "      <td>NaN</td>\n",
       "      <td>NaN</td>\n",
       "      <td>NaN</td>\n",
       "      <td>NaN</td>\n",
       "      <td>NaN</td>\n",
       "      <td>NaN</td>\n",
       "      <td>NaN</td>\n",
       "      <td>NaN</td>\n",
       "      <td>NaN</td>\n",
       "      <td>NaN</td>\n",
       "      <td>NaN</td>\n",
       "    </tr>\n",
       "    <tr>\n",
       "      <th>2017-08-17 06:00:00</th>\n",
       "      <td>NaN</td>\n",
       "      <td>NaN</td>\n",
       "      <td>NaN</td>\n",
       "      <td>NaN</td>\n",
       "      <td>NaN</td>\n",
       "      <td>NaN</td>\n",
       "      <td>4315.32</td>\n",
       "      <td>302.40</td>\n",
       "      <td>NaN</td>\n",
       "      <td>NaN</td>\n",
       "      <td>NaN</td>\n",
       "      <td>NaN</td>\n",
       "      <td>NaN</td>\n",
       "      <td>NaN</td>\n",
       "      <td>NaN</td>\n",
       "      <td>NaN</td>\n",
       "      <td>NaN</td>\n",
       "      <td>NaN</td>\n",
       "      <td>NaN</td>\n",
       "      <td>NaN</td>\n",
       "    </tr>\n",
       "    <tr>\n",
       "      <th>2017-08-17 07:00:00</th>\n",
       "      <td>NaN</td>\n",
       "      <td>NaN</td>\n",
       "      <td>NaN</td>\n",
       "      <td>NaN</td>\n",
       "      <td>NaN</td>\n",
       "      <td>NaN</td>\n",
       "      <td>4324.35</td>\n",
       "      <td>302.68</td>\n",
       "      <td>NaN</td>\n",
       "      <td>NaN</td>\n",
       "      <td>NaN</td>\n",
       "      <td>NaN</td>\n",
       "      <td>NaN</td>\n",
       "      <td>NaN</td>\n",
       "      <td>NaN</td>\n",
       "      <td>NaN</td>\n",
       "      <td>NaN</td>\n",
       "      <td>NaN</td>\n",
       "      <td>NaN</td>\n",
       "      <td>NaN</td>\n",
       "    </tr>\n",
       "    <tr>\n",
       "      <th>2017-08-17 08:00:00</th>\n",
       "      <td>NaN</td>\n",
       "      <td>NaN</td>\n",
       "      <td>NaN</td>\n",
       "      <td>NaN</td>\n",
       "      <td>NaN</td>\n",
       "      <td>NaN</td>\n",
       "      <td>4349.99</td>\n",
       "      <td>307.95</td>\n",
       "      <td>NaN</td>\n",
       "      <td>NaN</td>\n",
       "      <td>NaN</td>\n",
       "      <td>NaN</td>\n",
       "      <td>NaN</td>\n",
       "      <td>NaN</td>\n",
       "      <td>NaN</td>\n",
       "      <td>NaN</td>\n",
       "      <td>NaN</td>\n",
       "      <td>NaN</td>\n",
       "      <td>NaN</td>\n",
       "      <td>NaN</td>\n",
       "    </tr>\n",
       "    <tr>\n",
       "      <th>...</th>\n",
       "      <td>...</td>\n",
       "      <td>...</td>\n",
       "      <td>...</td>\n",
       "      <td>...</td>\n",
       "      <td>...</td>\n",
       "      <td>...</td>\n",
       "      <td>...</td>\n",
       "      <td>...</td>\n",
       "      <td>...</td>\n",
       "      <td>...</td>\n",
       "      <td>...</td>\n",
       "      <td>...</td>\n",
       "      <td>...</td>\n",
       "      <td>...</td>\n",
       "      <td>...</td>\n",
       "      <td>...</td>\n",
       "      <td>...</td>\n",
       "      <td>...</td>\n",
       "      <td>...</td>\n",
       "      <td>...</td>\n",
       "    </tr>\n",
       "    <tr>\n",
       "      <th>2023-03-31 20:00:00</th>\n",
       "      <td>73.2</td>\n",
       "      <td>224.3</td>\n",
       "      <td>124.2</td>\n",
       "      <td>1806.21</td>\n",
       "      <td>500.4</td>\n",
       "      <td>316.6</td>\n",
       "      <td>28438.81</td>\n",
       "      <td>1827.27</td>\n",
       "      <td>76.24</td>\n",
       "      <td>113.3</td>\n",
       "      <td>60.23</td>\n",
       "      <td>83.51</td>\n",
       "      <td>89.71</td>\n",
       "      <td>688.0</td>\n",
       "      <td>1977.0</td>\n",
       "      <td>124.8</td>\n",
       "      <td>87.9</td>\n",
       "      <td>157.4</td>\n",
       "      <td>1108.5</td>\n",
       "      <td>8705.0</td>\n",
       "    </tr>\n",
       "    <tr>\n",
       "      <th>2023-03-31 21:00:00</th>\n",
       "      <td>73.1</td>\n",
       "      <td>225.1</td>\n",
       "      <td>123.5</td>\n",
       "      <td>1798.25</td>\n",
       "      <td>496.6</td>\n",
       "      <td>315.6</td>\n",
       "      <td>28405.69</td>\n",
       "      <td>1818.80</td>\n",
       "      <td>76.08</td>\n",
       "      <td>113.3</td>\n",
       "      <td>59.89</td>\n",
       "      <td>83.22</td>\n",
       "      <td>89.66</td>\n",
       "      <td>685.0</td>\n",
       "      <td>1972.0</td>\n",
       "      <td>124.6</td>\n",
       "      <td>87.8</td>\n",
       "      <td>157.2</td>\n",
       "      <td>1106.5</td>\n",
       "      <td>8722.0</td>\n",
       "    </tr>\n",
       "    <tr>\n",
       "      <th>2023-03-31 22:00:00</th>\n",
       "      <td>73.9</td>\n",
       "      <td>225.2</td>\n",
       "      <td>123.8</td>\n",
       "      <td>1804.92</td>\n",
       "      <td>497.7</td>\n",
       "      <td>316.4</td>\n",
       "      <td>28466.19</td>\n",
       "      <td>1823.85</td>\n",
       "      <td>76.06</td>\n",
       "      <td>113.6</td>\n",
       "      <td>59.85</td>\n",
       "      <td>83.33</td>\n",
       "      <td>89.87</td>\n",
       "      <td>690.0</td>\n",
       "      <td>1977.0</td>\n",
       "      <td>125.3</td>\n",
       "      <td>88.9</td>\n",
       "      <td>157.8</td>\n",
       "      <td>1103.3</td>\n",
       "      <td>8783.0</td>\n",
       "    </tr>\n",
       "    <tr>\n",
       "      <th>2023-03-31 23:00:00</th>\n",
       "      <td>74.3</td>\n",
       "      <td>225.9</td>\n",
       "      <td>124.2</td>\n",
       "      <td>1805.21</td>\n",
       "      <td>501.0</td>\n",
       "      <td>317.1</td>\n",
       "      <td>28563.38</td>\n",
       "      <td>1825.72</td>\n",
       "      <td>76.26</td>\n",
       "      <td>113.9</td>\n",
       "      <td>60.19</td>\n",
       "      <td>83.50</td>\n",
       "      <td>89.97</td>\n",
       "      <td>690.0</td>\n",
       "      <td>1975.0</td>\n",
       "      <td>125.5</td>\n",
       "      <td>89.8</td>\n",
       "      <td>158.1</td>\n",
       "      <td>1109.1</td>\n",
       "      <td>8770.0</td>\n",
       "    </tr>\n",
       "    <tr>\n",
       "      <th>2023-04-01 00:00:00</th>\n",
       "      <td>74.3</td>\n",
       "      <td>226.0</td>\n",
       "      <td>124.2</td>\n",
       "      <td>1803.34</td>\n",
       "      <td>502.8</td>\n",
       "      <td>316.9</td>\n",
       "      <td>28480.07</td>\n",
       "      <td>1822.30</td>\n",
       "      <td>76.10</td>\n",
       "      <td>113.8</td>\n",
       "      <td>59.81</td>\n",
       "      <td>83.25</td>\n",
       "      <td>89.58</td>\n",
       "      <td>688.0</td>\n",
       "      <td>1977.0</td>\n",
       "      <td>125.0</td>\n",
       "      <td>91.8</td>\n",
       "      <td>157.7</td>\n",
       "      <td>1109.2</td>\n",
       "      <td>8803.0</td>\n",
       "    </tr>\n",
       "  </tbody>\n",
       "</table>\n",
       "<p>49269 rows × 20 columns</p>\n",
       "</div>"
      ],
      "text/plain": [
       "                     close_AAVEUSDT  close_AUTOUSDT  close_BCHUSDT   \n",
       "open_time                                                            \n",
       "2017-08-17 04:00:00             NaN             NaN            NaN  \\\n",
       "2017-08-17 05:00:00             NaN             NaN            NaN   \n",
       "2017-08-17 06:00:00             NaN             NaN            NaN   \n",
       "2017-08-17 07:00:00             NaN             NaN            NaN   \n",
       "2017-08-17 08:00:00             NaN             NaN            NaN   \n",
       "...                             ...             ...            ...   \n",
       "2023-03-31 20:00:00            73.2           224.3          124.2   \n",
       "2023-03-31 21:00:00            73.1           225.1          123.5   \n",
       "2023-03-31 22:00:00            73.9           225.2          123.8   \n",
       "2023-03-31 23:00:00            74.3           225.9          124.2   \n",
       "2023-04-01 00:00:00            74.3           226.0          124.2   \n",
       "\n",
       "                     close_BETHUSDT  close_BIFIUSDT  close_BNBUSDT   \n",
       "open_time                                                            \n",
       "2017-08-17 04:00:00             NaN             NaN            NaN  \\\n",
       "2017-08-17 05:00:00             NaN             NaN            NaN   \n",
       "2017-08-17 06:00:00             NaN             NaN            NaN   \n",
       "2017-08-17 07:00:00             NaN             NaN            NaN   \n",
       "2017-08-17 08:00:00             NaN             NaN            NaN   \n",
       "...                             ...             ...            ...   \n",
       "2023-03-31 20:00:00         1806.21           500.4          316.6   \n",
       "2023-03-31 21:00:00         1798.25           496.6          315.6   \n",
       "2023-03-31 22:00:00         1804.92           497.7          316.4   \n",
       "2023-03-31 23:00:00         1805.21           501.0          317.1   \n",
       "2023-04-01 00:00:00         1803.34           502.8          316.9   \n",
       "\n",
       "                     close_BTCUSDT  close_ETHUSDT  close_GMXUSDT   \n",
       "open_time                                                          \n",
       "2017-08-17 04:00:00        4261.48         301.13            NaN  \\\n",
       "2017-08-17 05:00:00        4308.83         301.61            NaN   \n",
       "2017-08-17 06:00:00        4315.32         302.40            NaN   \n",
       "2017-08-17 07:00:00        4324.35         302.68            NaN   \n",
       "2017-08-17 08:00:00        4349.99         307.95            NaN   \n",
       "...                            ...            ...            ...   \n",
       "2023-03-31 20:00:00       28438.81        1827.27          76.24   \n",
       "2023-03-31 21:00:00       28405.69        1818.80          76.08   \n",
       "2023-03-31 22:00:00       28466.19        1823.85          76.06   \n",
       "2023-03-31 23:00:00       28563.38        1825.72          76.26   \n",
       "2023-04-01 00:00:00       28480.07        1822.30          76.10   \n",
       "\n",
       "                     close_GNOUSDT  close_ILVUSDT  close_KP3RUSDT   \n",
       "open_time                                                           \n",
       "2017-08-17 04:00:00            NaN            NaN             NaN  \\\n",
       "2017-08-17 05:00:00            NaN            NaN             NaN   \n",
       "2017-08-17 06:00:00            NaN            NaN             NaN   \n",
       "2017-08-17 07:00:00            NaN            NaN             NaN   \n",
       "2017-08-17 08:00:00            NaN            NaN             NaN   \n",
       "...                            ...            ...             ...   \n",
       "2023-03-31 20:00:00          113.3          60.23           83.51   \n",
       "2023-03-31 21:00:00          113.3          59.89           83.22   \n",
       "2023-03-31 22:00:00          113.6          59.85           83.33   \n",
       "2023-03-31 23:00:00          113.9          60.19           83.50   \n",
       "2023-04-01 00:00:00          113.8          59.81           83.25   \n",
       "\n",
       "                     close_LTCUSDT  close_MKRUSDT  close_PAXGUSDT   \n",
       "open_time                                                           \n",
       "2017-08-17 04:00:00            NaN            NaN             NaN  \\\n",
       "2017-08-17 05:00:00            NaN            NaN             NaN   \n",
       "2017-08-17 06:00:00            NaN            NaN             NaN   \n",
       "2017-08-17 07:00:00            NaN            NaN             NaN   \n",
       "2017-08-17 08:00:00            NaN            NaN             NaN   \n",
       "...                            ...            ...             ...   \n",
       "2023-03-31 20:00:00          89.71          688.0          1977.0   \n",
       "2023-03-31 21:00:00          89.66          685.0          1972.0   \n",
       "2023-03-31 22:00:00          89.87          690.0          1977.0   \n",
       "2023-03-31 23:00:00          89.97          690.0          1975.0   \n",
       "2023-04-01 00:00:00          89.58          688.0          1977.0   \n",
       "\n",
       "                     close_QNTUSDT  close_QUICKUSDT  close_XMRUSDT   \n",
       "open_time                                                            \n",
       "2017-08-17 04:00:00            NaN              NaN            NaN  \\\n",
       "2017-08-17 05:00:00            NaN              NaN            NaN   \n",
       "2017-08-17 06:00:00            NaN              NaN            NaN   \n",
       "2017-08-17 07:00:00            NaN              NaN            NaN   \n",
       "2017-08-17 08:00:00            NaN              NaN            NaN   \n",
       "...                            ...              ...            ...   \n",
       "2023-03-31 20:00:00          124.8             87.9          157.4   \n",
       "2023-03-31 21:00:00          124.6             87.8          157.2   \n",
       "2023-03-31 22:00:00          125.3             88.9          157.8   \n",
       "2023-03-31 23:00:00          125.5             89.8          158.1   \n",
       "2023-04-01 00:00:00          125.0             91.8          157.7   \n",
       "\n",
       "                     close_YFIIUSDT  close_YFIUSDT  \n",
       "open_time                                           \n",
       "2017-08-17 04:00:00             NaN            NaN  \n",
       "2017-08-17 05:00:00             NaN            NaN  \n",
       "2017-08-17 06:00:00             NaN            NaN  \n",
       "2017-08-17 07:00:00             NaN            NaN  \n",
       "2017-08-17 08:00:00             NaN            NaN  \n",
       "...                             ...            ...  \n",
       "2023-03-31 20:00:00          1108.5         8705.0  \n",
       "2023-03-31 21:00:00          1106.5         8722.0  \n",
       "2023-03-31 22:00:00          1103.3         8783.0  \n",
       "2023-03-31 23:00:00          1109.1         8770.0  \n",
       "2023-04-01 00:00:00          1109.2         8803.0  \n",
       "\n",
       "[49269 rows x 20 columns]"
      ]
     },
     "execution_count": 45,
     "metadata": {},
     "output_type": "execute_result"
    }
   ],
   "source": [
    "price_df_60m"
   ]
  },
  {
   "cell_type": "code",
   "execution_count": 48,
   "metadata": {},
   "outputs": [
    {
     "data": {
      "text/plain": [
       "49269"
      ]
     },
     "execution_count": 48,
     "metadata": {},
     "output_type": "execute_result"
    }
   ],
   "source": [
    "price_df.to_sql(\"ALL\",engine_out)\n",
    "price_df_5m.to_sql(\"ALL_5\",engine_out)\n",
    "price_df_15m.to_sql(\"ALL_15\",engine_out)\n",
    "price_df_60m.to_sql(\"ALL_60\",engine_out)"
   ]
  },
  {
   "cell_type": "code",
   "execution_count": 5,
   "metadata": {},
   "outputs": [
    {
     "data": {
      "text/html": [
       "<div>\n",
       "<style scoped>\n",
       "    .dataframe tbody tr th:only-of-type {\n",
       "        vertical-align: middle;\n",
       "    }\n",
       "\n",
       "    .dataframe tbody tr th {\n",
       "        vertical-align: top;\n",
       "    }\n",
       "\n",
       "    .dataframe thead th {\n",
       "        text-align: right;\n",
       "    }\n",
       "</style>\n",
       "<table border=\"1\" class=\"dataframe\">\n",
       "  <thead>\n",
       "    <tr style=\"text-align: right;\">\n",
       "      <th></th>\n",
       "      <th>close_BTCUSDT</th>\n",
       "      <th>close_ETHUSDT</th>\n",
       "      <th>close_BNBUSDT</th>\n",
       "      <th>close_LTCUSDT</th>\n",
       "      <th>close_XMRUSDT</th>\n",
       "    </tr>\n",
       "    <tr>\n",
       "      <th>open_time</th>\n",
       "      <th></th>\n",
       "      <th></th>\n",
       "      <th></th>\n",
       "      <th></th>\n",
       "      <th></th>\n",
       "    </tr>\n",
       "  </thead>\n",
       "  <tbody>\n",
       "    <tr>\n",
       "      <th>2017-08-17 04:00:00</th>\n",
       "      <td>4261.48</td>\n",
       "      <td>301.13</td>\n",
       "      <td>NaN</td>\n",
       "      <td>NaN</td>\n",
       "      <td>NaN</td>\n",
       "    </tr>\n",
       "    <tr>\n",
       "      <th>2017-08-17 04:01:00</th>\n",
       "      <td>4261.48</td>\n",
       "      <td>301.13</td>\n",
       "      <td>NaN</td>\n",
       "      <td>NaN</td>\n",
       "      <td>NaN</td>\n",
       "    </tr>\n",
       "    <tr>\n",
       "      <th>2017-08-17 04:02:00</th>\n",
       "      <td>4280.56</td>\n",
       "      <td>300.00</td>\n",
       "      <td>NaN</td>\n",
       "      <td>NaN</td>\n",
       "      <td>NaN</td>\n",
       "    </tr>\n",
       "    <tr>\n",
       "      <th>2017-08-17 04:03:00</th>\n",
       "      <td>4261.48</td>\n",
       "      <td>300.00</td>\n",
       "      <td>NaN</td>\n",
       "      <td>NaN</td>\n",
       "      <td>NaN</td>\n",
       "    </tr>\n",
       "    <tr>\n",
       "      <th>2017-08-17 04:04:00</th>\n",
       "      <td>4261.48</td>\n",
       "      <td>301.13</td>\n",
       "      <td>NaN</td>\n",
       "      <td>NaN</td>\n",
       "      <td>NaN</td>\n",
       "    </tr>\n",
       "  </tbody>\n",
       "</table>\n",
       "</div>"
      ],
      "text/plain": [
       "                     close_BTCUSDT  close_ETHUSDT  close_BNBUSDT   \n",
       "open_time                                                          \n",
       "2017-08-17 04:00:00        4261.48         301.13            NaN  \\\n",
       "2017-08-17 04:01:00        4261.48         301.13            NaN   \n",
       "2017-08-17 04:02:00        4280.56         300.00            NaN   \n",
       "2017-08-17 04:03:00        4261.48         300.00            NaN   \n",
       "2017-08-17 04:04:00        4261.48         301.13            NaN   \n",
       "\n",
       "                     close_LTCUSDT  close_XMRUSDT  \n",
       "open_time                                          \n",
       "2017-08-17 04:00:00            NaN            NaN  \n",
       "2017-08-17 04:01:00            NaN            NaN  \n",
       "2017-08-17 04:02:00            NaN            NaN  \n",
       "2017-08-17 04:03:00            NaN            NaN  \n",
       "2017-08-17 04:04:00            NaN            NaN  "
      ]
     },
     "execution_count": 5,
     "metadata": {},
     "output_type": "execute_result"
    }
   ],
   "source": [
    "price_df = pd.read_csv(\"../data/initial_pairs.csv\")\n",
    "price_df.set_index('open_time',inplace = True)\n",
    "price_df.head()"
   ]
  },
  {
   "cell_type": "code",
   "execution_count": 6,
   "metadata": {},
   "outputs": [
    {
     "data": {
      "text/plain": [
       "<AxesSubplot:xlabel='open_time'>"
      ]
     },
     "execution_count": 6,
     "metadata": {},
     "output_type": "execute_result"
    },
    {
     "data": {
      "image/png": "[encoded data removed]",
      "text/plain": [
       "<Figure size 432x288 with 1 Axes>"
      ]
     },
     "metadata": {
      "needs_background": "light"
     },
     "output_type": "display_data"
    }
   ],
   "source": [
    "price_df_norm = price_df.dropna().copy()\n",
    "for c in price_df_norm.columns : \n",
    "    price_df_norm[c] = price_df_norm[c] / price_df_norm[c].iloc[0]\n",
    "\n",
    "price_df_norm.plot()"
   ]
  },
  {
   "cell_type": "code",
   "execution_count": 7,
   "metadata": {},
   "outputs": [],
   "source": [
    "## First we want to check the Stability"
   ]
  },
  {
   "cell_type": "code",
   "execution_count": 8,
   "metadata": {},
   "outputs": [],
   "source": [
    "diff_df = price_df.diff()"
   ]
  },
  {
   "cell_type": "code",
   "execution_count": 9,
   "metadata": {},
   "outputs": [],
   "source": [
    "# diff_df.plot()"
   ]
  },
  {
   "cell_type": "code",
   "execution_count": 10,
   "metadata": {},
   "outputs": [],
   "source": [
    "import statsmodels.tsa as smt"
   ]
  },
  {
   "cell_type": "code",
   "execution_count": 11,
   "metadata": {},
   "outputs": [],
   "source": [
    "# smt.stattools.adfuller(np.array(price_df['close_BTCUSDT'].iloc[:100000].values,dtype = 'float16'))"
   ]
  },
  {
   "cell_type": "code",
   "execution_count": 12,
   "metadata": {},
   "outputs": [],
   "source": [
    "adf_name = [\"adf\",\"pvalue\",\"usedlag\",\"nobs\",\"critical values\",\"icbest\"]"
   ]
  },
  {
   "cell_type": "code",
   "execution_count": 13,
   "metadata": {},
   "outputs": [],
   "source": [
    "a = pd.DataFrame([(-1.9838005801314476,\n",
    " 0.29372083638551827,\n",
    " 93,\n",
    " 499906,\n",
    " {'1%': -3.430363081126409,\n",
    "  '5%': -2.8615457817039,\n",
    "  '10%': -2.5667730773897874},\n",
    " 4426570.759123392)],columns = adf_name,index = ['btc'])"
   ]
  },
  {
   "cell_type": "code",
   "execution_count": null,
   "metadata": {},
   "outputs": [],
   "source": []
  },
  {
   "cell_type": "code",
   "execution_count": 14,
   "metadata": {},
   "outputs": [],
   "source": [
    "# adf_df = pd.DataFrame(columns = adf_name)\n",
    "# for ticker in tickers :\n",
    "#     ans = smt.stattools.adfuller(np.array(price_df[f'close_{ticker}'].dropna().iloc[:100000].values,dtype = 'float16'))\n",
    "#     ans_df = pd.DataFrame([ans],columns = adf_name,index= [f\"{ticker}\"])\n",
    "#     adf_df = pd.concat([adf_df,ans_df],axis = 0)"
   ]
  },
  {
   "cell_type": "code",
   "execution_count": 15,
   "metadata": {},
   "outputs": [],
   "source": [
    "# adf_df_delta = pd.DataFrame(columns = adf_name)\n",
    "# for ticker in tickers :\n",
    "#     ans = smt.stattools.adfuller(np.array(diff_df[f'close_{ticker}'].dropna().iloc[:100000].values,dtype = 'float16'))\n",
    "#     ans_df = pd.DataFrame([ans],columns = adf_name,index= [f\"Delta_{ticker}\"])\n",
    "#     adf_df_delta = pd.concat([adf_df_delta,ans_df],axis = 0)"
   ]
  },
  {
   "cell_type": "code",
   "execution_count": 16,
   "metadata": {},
   "outputs": [],
   "source": [
    "# adf_df_delta"
   ]
  },
  {
   "attachments": {},
   "cell_type": "markdown",
   "metadata": {},
   "source": [
    "# Construction de la regression"
   ]
  },
  {
   "cell_type": "code",
   "execution_count": 17,
   "metadata": {},
   "outputs": [],
   "source": [
    "reg_df = price_df.dropna()"
   ]
  },
  {
   "cell_type": "code",
   "execution_count": 18,
   "metadata": {},
   "outputs": [],
   "source": [
    "endog = reg_df['close_BTCUSDT']\n",
    "exog = reg_df.drop('close_BTCUSDT',axis = 1)\n"
   ]
  },
  {
   "cell_type": "code",
   "execution_count": 19,
   "metadata": {},
   "outputs": [],
   "source": [
    "model = sm.OLS(endog= endog,exog = exog,)"
   ]
  },
  {
   "cell_type": "code",
   "execution_count": 20,
   "metadata": {},
   "outputs": [],
   "source": [
    "model_calibrated = model.fit()"
   ]
  },
  {
   "cell_type": "code",
   "execution_count": 21,
   "metadata": {},
   "outputs": [
    {
     "data": {
      "text/plain": [
       "close_ETHUSDT     9.894882\n",
       "close_BNBUSDT   -20.498868\n",
       "close_LTCUSDT    78.934890\n",
       "close_XMRUSDT    47.979978\n",
       "dtype: float64"
      ]
     },
     "execution_count": 21,
     "metadata": {},
     "output_type": "execute_result"
    }
   ],
   "source": [
    "model_calibrated.params"
   ]
  },
  {
   "cell_type": "code",
   "execution_count": 22,
   "metadata": {},
   "outputs": [
    {
     "data": {
      "text/html": [
       "<table class=\"simpletable\">\n",
       "<caption>OLS Regression Results</caption>\n",
       "<tr>\n",
       "  <th>Dep. Variable:</th>      <td>close_BTCUSDT</td>  <th>  R-squared (uncentered):</th>       <td>   0.975</td>  \n",
       "</tr>\n",
       "<tr>\n",
       "  <th>Model:</th>                   <td>OLS</td>       <th>  Adj. R-squared (uncentered):</th>  <td>   0.975</td>  \n",
       "</tr>\n",
       "<tr>\n",
       "  <th>Method:</th>             <td>Least Squares</td>  <th>  F-statistic:       </th>           <td>2.071e+07</td> \n",
       "</tr>\n",
       "<tr>\n",
       "  <th>Date:</th>             <td>Fri, 07 Apr 2023</td> <th>  Prob (F-statistic):</th>            <td>  0.00</td>   \n",
       "</tr>\n",
       "<tr>\n",
       "  <th>Time:</th>                 <td>17:56:50</td>     <th>  Log-Likelihood:    </th>          <td>-2.0974e+07</td>\n",
       "</tr>\n",
       "<tr>\n",
       "  <th>No. Observations:</th>      <td>2124330</td>     <th>  AIC:               </th>           <td>4.195e+07</td> \n",
       "</tr>\n",
       "<tr>\n",
       "  <th>Df Residuals:</th>          <td>2124326</td>     <th>  BIC:               </th>           <td>4.195e+07</td> \n",
       "</tr>\n",
       "<tr>\n",
       "  <th>Df Model:</th>              <td>     4</td>      <th>                     </th>               <td> </td>     \n",
       "</tr>\n",
       "<tr>\n",
       "  <th>Covariance Type:</th>      <td>nonrobust</td>    <th>                     </th>               <td> </td>     \n",
       "</tr>\n",
       "</table>\n",
       "<table class=\"simpletable\">\n",
       "<tr>\n",
       "        <td></td>           <th>coef</th>     <th>std err</th>      <th>t</th>      <th>P>|t|</th>  <th>[0.025</th>    <th>0.975]</th>  \n",
       "</tr>\n",
       "<tr>\n",
       "  <th>close_ETHUSDT</th> <td>    9.8949</td> <td>    0.009</td> <td> 1091.917</td> <td> 0.000</td> <td>    9.877</td> <td>    9.913</td>\n",
       "</tr>\n",
       "<tr>\n",
       "  <th>close_BNBUSDT</th> <td>  -20.4989</td> <td>    0.063</td> <td> -324.695</td> <td> 0.000</td> <td>  -20.623</td> <td>  -20.375</td>\n",
       "</tr>\n",
       "<tr>\n",
       "  <th>close_LTCUSDT</th> <td>   78.9349</td> <td>    0.115</td> <td>  688.314</td> <td> 0.000</td> <td>   78.710</td> <td>   79.160</td>\n",
       "</tr>\n",
       "<tr>\n",
       "  <th>close_XMRUSDT</th> <td>   47.9800</td> <td>    0.103</td> <td>  467.820</td> <td> 0.000</td> <td>   47.779</td> <td>   48.181</td>\n",
       "</tr>\n",
       "</table>\n",
       "<table class=\"simpletable\">\n",
       "<tr>\n",
       "  <th>Omnibus:</th>       <td>435716.472</td> <th>  Durbin-Watson:     </th>  <td>   0.000</td>  \n",
       "</tr>\n",
       "<tr>\n",
       "  <th>Prob(Omnibus):</th>   <td> 0.000</td>   <th>  Jarque-Bera (JB):  </th> <td>3511506.722</td>\n",
       "</tr>\n",
       "<tr>\n",
       "  <th>Skew:</th>            <td> 0.768</td>   <th>  Prob(JB):          </th>  <td>    0.00</td>  \n",
       "</tr>\n",
       "<tr>\n",
       "  <th>Kurtosis:</th>        <td> 9.108</td>   <th>  Cond. No.          </th>  <td>    88.7</td>  \n",
       "</tr>\n",
       "</table><br/><br/>Notes:<br/>[1] R² is computed without centering (uncentered) since the model does not contain a constant.<br/>[2] Standard Errors assume that the covariance matrix of the errors is correctly specified."
      ],
      "text/plain": [
       "<class 'statsmodels.iolib.summary.Summary'>\n",
       "\"\"\"\n",
       "                                 OLS Regression Results                                \n",
       "=======================================================================================\n",
       "Dep. Variable:          close_BTCUSDT   R-squared (uncentered):                   0.975\n",
       "Model:                            OLS   Adj. R-squared (uncentered):              0.975\n",
       "Method:                 Least Squares   F-statistic:                          2.071e+07\n",
       "Date:                Fri, 07 Apr 2023   Prob (F-statistic):                        0.00\n",
       "Time:                        17:56:50   Log-Likelihood:                     -2.0974e+07\n",
       "No. Observations:             2124330   AIC:                                  4.195e+07\n",
       "Df Residuals:                 2124326   BIC:                                  4.195e+07\n",
       "Df Model:                           4                                                  \n",
       "Covariance Type:            nonrobust                                                  \n",
       "=================================================================================\n",
       "                    coef    std err          t      P>|t|      [0.025      0.975]\n",
       "---------------------------------------------------------------------------------\n",
       "close_ETHUSDT     9.8949      0.009   1091.917      0.000       9.877       9.913\n",
       "close_BNBUSDT   -20.4989      0.063   -324.695      0.000     -20.623     -20.375\n",
       "close_LTCUSDT    78.9349      0.115    688.314      0.000      78.710      79.160\n",
       "close_XMRUSDT    47.9800      0.103    467.820      0.000      47.779      48.181\n",
       "==============================================================================\n",
       "Omnibus:                   435716.472   Durbin-Watson:                   0.000\n",
       "Prob(Omnibus):                  0.000   Jarque-Bera (JB):          3511506.722\n",
       "Skew:                           0.768   Prob(JB):                         0.00\n",
       "Kurtosis:                       9.108   Cond. No.                         88.7\n",
       "==============================================================================\n",
       "\n",
       "Notes:\n",
       "[1] R² is computed without centering (uncentered) since the model does not contain a constant.\n",
       "[2] Standard Errors assume that the covariance matrix of the errors is correctly specified.\n",
       "\"\"\""
      ]
     },
     "execution_count": 22,
     "metadata": {},
     "output_type": "execute_result"
    }
   ],
   "source": [
    "model_calibrated.summary()"
   ]
  },
  {
   "cell_type": "code",
   "execution_count": 23,
   "metadata": {},
   "outputs": [
    {
     "data": {
      "text/plain": [
       "[<matplotlib.lines.Line2D at 0x21584160cd0>]"
      ]
     },
     "execution_count": 23,
     "metadata": {},
     "output_type": "execute_result"
    },
    {
     "data": {
      "image/png": "[encoded data removed]",
      "text/plain": [
       "<Figure size 432x288 with 1 Axes>"
      ]
     },
     "metadata": {
      "needs_background": "light"
     },
     "output_type": "display_data"
    }
   ],
   "source": [
    "plt.plot(model_calibrated.predict())\n"
   ]
  },
  {
   "cell_type": "code",
   "execution_count": 25,
   "metadata": {},
   "outputs": [
    {
     "data": {
      "text/plain": [
       "[<matplotlib.lines.Line2D at 0x2159391cdf0>]"
      ]
     },
     "execution_count": 25,
     "metadata": {},
     "output_type": "execute_result"
    },
    {
     "data": {
      "image/png": "[encoded data removed]",
      "text/plain": [
       "<Figure size 432x288 with 1 Axes>"
      ]
     },
     "metadata": {
      "needs_background": "light"
     },
     "output_type": "display_data"
    }
   ],
   "source": [
    "plt.plot(reg_df['close_BTCUSDT'].values)"
   ]
  },
  {
   "cell_type": "code",
   "execution_count": 26,
   "metadata": {},
   "outputs": [],
   "source": [
    "spread = reg_df['close_BTCUSDT'] - model_calibrated.predict()"
   ]
  },
  {
   "cell_type": "code",
   "execution_count": 35,
   "metadata": {},
   "outputs": [
    {
     "data": {
      "text/plain": [
       "<matplotlib.collections.LineCollection at 0x21593b85d30>"
      ]
     },
     "execution_count": 35,
     "metadata": {},
     "output_type": "execute_result"
    },
    {
     "data": {
      "image/png": "[encoded data removed]",
      "text/plain": [
       "<Figure size 864x504 with 1 Axes>"
      ]
     },
     "metadata": {
      "needs_background": "light"
     },
     "output_type": "display_data"
    }
   ],
   "source": [
    "plt.figure(figsize = (12,7))\n",
    "plt.plot(spread.values)\n",
    "plt.hlines(np.std(spread),xmin = 0,xmax = len(spread),color = 'r')\n",
    "plt.hlines(-np.std(spread),xmin = 0,xmax = len(spread),color = 'r')"
   ]
  },
  {
   "cell_type": "code",
   "execution_count": 36,
   "metadata": {},
   "outputs": [
    {
     "data": {
      "text/plain": [
       "4695.037431011142"
      ]
     },
     "execution_count": 36,
     "metadata": {},
     "output_type": "execute_result"
    }
   ],
   "source": [
    "np.std(spread)"
   ]
  },
  {
   "cell_type": "code",
   "execution_count": 30,
   "metadata": {},
   "outputs": [
    {
     "data": {
      "text/plain": [
       "-80.68251639579853"
      ]
     },
     "execution_count": 30,
     "metadata": {},
     "output_type": "execute_result"
    }
   ],
   "source": [
    "np.mean(spread)"
   ]
  },
  {
   "cell_type": "code",
   "execution_count": null,
   "metadata": {},
   "outputs": [],
   "source": []
  }
 ],
 "metadata": {
  "kernelspec": {
   "display_name": "base",
   "language": "python",
   "name": "python3"
  },
  "language_info": {
   "codemirror_mode": {
    "name": "ipython",
    "version": 3
   },
   "file_extension": ".py",
   "mimetype": "text/x-python",
   "name": "python",
   "nbconvert_exporter": "python",
   "pygments_lexer": "ipython3",
   "version": "3.9.7"
  },
  "orig_nbformat": 4,
  "vscode": {
   "interpreter": {
    "hash": "88bc9bf2651904b8170c4deb4f8b005527122b5efd26bf9a5921796d0ca475b7"
   }
  }
 },
 "nbformat": 4,
 "nbformat_minor": 2
}
